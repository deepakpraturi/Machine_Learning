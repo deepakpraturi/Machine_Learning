{
 "cells": [
  {
   "cell_type": "markdown",
   "metadata": {
    "scrolled": true
   },
   "source": [
    "<h4>Importing required Packages and loading the training and testing data</h4>"
   ]
  },
  {
   "cell_type": "code",
   "execution_count": 1,
   "metadata": {},
   "outputs": [],
   "source": [
    "from scipy.io import arff\n",
    "import pandas as pd\n",
    "import math\n",
    "import operator\n",
    "import matplotlib.pyplot as plt\n",
    "\n",
    "train_data = arff.loadarff('trainProdSelection.arff')\n",
    "training_set = pd.DataFrame(train_data[0])\n",
    "\n",
    "test_data = arff.loadarff('testProdSelection.arff')\n",
    "testing_set = pd.DataFrame(test_data[0])"
   ]
  },
  {
   "cell_type": "markdown",
   "metadata": {},
   "source": [
    "<h4>Printing the training data</h4>"
   ]
  },
  {
   "cell_type": "code",
   "execution_count": 2,
   "metadata": {
    "scrolled": false
   },
   "outputs": [
    {
     "data": {
      "text/html": [
       "<div>\n",
       "<style scoped>\n",
       "    .dataframe tbody tr th:only-of-type {\n",
       "        vertical-align: middle;\n",
       "    }\n",
       "\n",
       "    .dataframe tbody tr th {\n",
       "        vertical-align: top;\n",
       "    }\n",
       "\n",
       "    .dataframe thead th {\n",
       "        text-align: right;\n",
       "    }\n",
       "</style>\n",
       "<table border=\"1\" class=\"dataframe\">\n",
       "  <thead>\n",
       "    <tr style=\"text-align: right;\">\n",
       "      <th></th>\n",
       "      <th>Type</th>\n",
       "      <th>LifeStyle</th>\n",
       "      <th>Vacation</th>\n",
       "      <th>eCredit</th>\n",
       "      <th>salary</th>\n",
       "      <th>property</th>\n",
       "      <th>label</th>\n",
       "    </tr>\n",
       "  </thead>\n",
       "  <tbody>\n",
       "    <tr>\n",
       "      <th>0</th>\n",
       "      <td>b'student'</td>\n",
       "      <td>b'spend&gt;saving'</td>\n",
       "      <td>6.0</td>\n",
       "      <td>40.0</td>\n",
       "      <td>13.62</td>\n",
       "      <td>3.2804</td>\n",
       "      <td>b'C1'</td>\n",
       "    </tr>\n",
       "    <tr>\n",
       "      <th>1</th>\n",
       "      <td>b'student'</td>\n",
       "      <td>b'spend&gt;saving'</td>\n",
       "      <td>11.0</td>\n",
       "      <td>21.0</td>\n",
       "      <td>15.32</td>\n",
       "      <td>2.0232</td>\n",
       "      <td>b'C1'</td>\n",
       "    </tr>\n",
       "    <tr>\n",
       "      <th>2</th>\n",
       "      <td>b'student'</td>\n",
       "      <td>b'spend&gt;saving'</td>\n",
       "      <td>7.0</td>\n",
       "      <td>64.0</td>\n",
       "      <td>16.55</td>\n",
       "      <td>3.1202</td>\n",
       "      <td>b'C1'</td>\n",
       "    </tr>\n",
       "    <tr>\n",
       "      <th>3</th>\n",
       "      <td>b'student'</td>\n",
       "      <td>b'spend&gt;saving'</td>\n",
       "      <td>3.0</td>\n",
       "      <td>47.0</td>\n",
       "      <td>15.71</td>\n",
       "      <td>3.4022</td>\n",
       "      <td>b'C1'</td>\n",
       "    </tr>\n",
       "    <tr>\n",
       "      <th>4</th>\n",
       "      <td>b'student'</td>\n",
       "      <td>b'spend&gt;saving'</td>\n",
       "      <td>15.0</td>\n",
       "      <td>10.0</td>\n",
       "      <td>16.96</td>\n",
       "      <td>2.2825</td>\n",
       "      <td>b'C1'</td>\n",
       "    </tr>\n",
       "  </tbody>\n",
       "</table>\n",
       "</div>"
      ],
      "text/plain": [
       "         Type        LifeStyle  Vacation  eCredit  salary  property  label\n",
       "0  b'student'  b'spend>saving'       6.0     40.0   13.62    3.2804  b'C1'\n",
       "1  b'student'  b'spend>saving'      11.0     21.0   15.32    2.0232  b'C1'\n",
       "2  b'student'  b'spend>saving'       7.0     64.0   16.55    3.1202  b'C1'\n",
       "3  b'student'  b'spend>saving'       3.0     47.0   15.71    3.4022  b'C1'\n",
       "4  b'student'  b'spend>saving'      15.0     10.0   16.96    2.2825  b'C1'"
      ]
     },
     "execution_count": 2,
     "metadata": {},
     "output_type": "execute_result"
    }
   ],
   "source": [
    "training_set.head()"
   ]
  },
  {
   "cell_type": "markdown",
   "metadata": {},
   "source": [
    "<h4>Printing the testing data</h4>"
   ]
  },
  {
   "cell_type": "code",
   "execution_count": 3,
   "metadata": {
    "scrolled": false
   },
   "outputs": [
    {
     "data": {
      "text/html": [
       "<div>\n",
       "<style scoped>\n",
       "    .dataframe tbody tr th:only-of-type {\n",
       "        vertical-align: middle;\n",
       "    }\n",
       "\n",
       "    .dataframe tbody tr th {\n",
       "        vertical-align: top;\n",
       "    }\n",
       "\n",
       "    .dataframe thead th {\n",
       "        text-align: right;\n",
       "    }\n",
       "</style>\n",
       "<table border=\"1\" class=\"dataframe\">\n",
       "  <thead>\n",
       "    <tr style=\"text-align: right;\">\n",
       "      <th></th>\n",
       "      <th>Type</th>\n",
       "      <th>LifeStyle</th>\n",
       "      <th>Vacation</th>\n",
       "      <th>eCredit</th>\n",
       "      <th>salary</th>\n",
       "      <th>property</th>\n",
       "      <th>label</th>\n",
       "    </tr>\n",
       "  </thead>\n",
       "  <tbody>\n",
       "    <tr>\n",
       "      <th>0</th>\n",
       "      <td>b'student'</td>\n",
       "      <td>b'spend&lt;saving'</td>\n",
       "      <td>12.0</td>\n",
       "      <td>19.0</td>\n",
       "      <td>14.7900</td>\n",
       "      <td>3.7697</td>\n",
       "      <td>b'C1'</td>\n",
       "    </tr>\n",
       "    <tr>\n",
       "      <th>1</th>\n",
       "      <td>b'student'</td>\n",
       "      <td>b'spend&gt;&gt;saving'</td>\n",
       "      <td>29.0</td>\n",
       "      <td>10.0</td>\n",
       "      <td>16.1900</td>\n",
       "      <td>2.4839</td>\n",
       "      <td>b'C1'</td>\n",
       "    </tr>\n",
       "    <tr>\n",
       "      <th>2</th>\n",
       "      <td>b'student'</td>\n",
       "      <td>b'spend&lt;&lt;saving'</td>\n",
       "      <td>28.0</td>\n",
       "      <td>60.0</td>\n",
       "      <td>15.4600</td>\n",
       "      <td>1.1885</td>\n",
       "      <td>b'C1'</td>\n",
       "    </tr>\n",
       "    <tr>\n",
       "      <th>3</th>\n",
       "      <td>b'engineer'</td>\n",
       "      <td>b'spend&gt;saving'</td>\n",
       "      <td>15.0</td>\n",
       "      <td>41.0</td>\n",
       "      <td>21.2600</td>\n",
       "      <td>1.4379</td>\n",
       "      <td>b'C1'</td>\n",
       "    </tr>\n",
       "    <tr>\n",
       "      <th>4</th>\n",
       "      <td>b'librarian'</td>\n",
       "      <td>b'spend&lt;saving'</td>\n",
       "      <td>2.0</td>\n",
       "      <td>9.0</td>\n",
       "      <td>19.7207</td>\n",
       "      <td>0.6913</td>\n",
       "      <td>b'C1'</td>\n",
       "    </tr>\n",
       "  </tbody>\n",
       "</table>\n",
       "</div>"
      ],
      "text/plain": [
       "           Type         LifeStyle  Vacation  eCredit   salary  property  label\n",
       "0    b'student'   b'spend<saving'      12.0     19.0  14.7900    3.7697  b'C1'\n",
       "1    b'student'  b'spend>>saving'      29.0     10.0  16.1900    2.4839  b'C1'\n",
       "2    b'student'  b'spend<<saving'      28.0     60.0  15.4600    1.1885  b'C1'\n",
       "3   b'engineer'   b'spend>saving'      15.0     41.0  21.2600    1.4379  b'C1'\n",
       "4  b'librarian'   b'spend<saving'       2.0      9.0  19.7207    0.6913  b'C1'"
      ]
     },
     "execution_count": 3,
     "metadata": {},
     "output_type": "execute_result"
    }
   ],
   "source": [
    "testing_set.head()"
   ]
  },
  {
   "cell_type": "markdown",
   "metadata": {},
   "source": [
    "<h4>Checking the datatype for every column</h4>"
   ]
  },
  {
   "cell_type": "code",
   "execution_count": 4,
   "metadata": {
    "scrolled": true
   },
   "outputs": [
    {
     "data": {
      "text/plain": [
       "Type          object\n",
       "LifeStyle     object\n",
       "Vacation     float64\n",
       "eCredit      float64\n",
       "salary       float64\n",
       "property     float64\n",
       "label         object\n",
       "dtype: object"
      ]
     },
     "execution_count": 4,
     "metadata": {},
     "output_type": "execute_result"
    }
   ],
   "source": [
    "pd.DataFrame(train_data[0]).dtypes"
   ]
  },
  {
   "cell_type": "markdown",
   "metadata": {},
   "source": [
    "<h1>Training set pre-processing</h1>"
   ]
  },
  {
   "cell_type": "code",
   "execution_count": 5,
   "metadata": {},
   "outputs": [],
   "source": [
    "training_set.Type = training_set.Type.str.decode(\"UTF-8\")\n",
    "training_set.LifeStyle = training_set.LifeStyle.str.decode(\"UTF-8\")\n",
    "training_set.label = training_set.label.str.decode(\"UTF-8\")"
   ]
  },
  {
   "cell_type": "code",
   "execution_count": 6,
   "metadata": {},
   "outputs": [],
   "source": [
    "minValue = training_set.Vacation.min()\n",
    "maxValue = training_set.Vacation.max()\n",
    "training_set.Vacation = training_set.Vacation.apply(lambda x:(x-minValue)/(maxValue-minValue))\n",
    "\n",
    "minValue = training_set.eCredit.min()\n",
    "maxValue = training_set.eCredit.max()\n",
    "training_set.eCredit = training_set.eCredit.apply(lambda x:(x-minValue)/(maxValue-minValue))\n",
    "\n",
    "minValue = training_set.salary.min()\n",
    "maxValue = training_set.salary.max()\n",
    "training_set.salary = training_set.salary.apply(lambda x:(x-minValue)/(maxValue-minValue))\n",
    "\n",
    "minValue = training_set.property.min()\n",
    "maxValue = training_set.property.max()\n",
    "training_set.property = training_set.property.apply(lambda x:(x-minValue)/(maxValue-minValue))"
   ]
  },
  {
   "cell_type": "markdown",
   "metadata": {},
   "source": [
    "<h1>Training set pre-processing done</h1>"
   ]
  },
  {
   "cell_type": "markdown",
   "metadata": {},
   "source": [
    "<h1>Testing set pre-processing</h1>"
   ]
  },
  {
   "cell_type": "code",
   "execution_count": 7,
   "metadata": {},
   "outputs": [],
   "source": [
    "testing_set.Type=testing_set.Type.str.decode(\"UTF-8\")\n",
    "testing_set.LifeStyle=testing_set.LifeStyle.str.decode(\"UTF-8\")\n",
    "testing_set.label=testing_set.label.str.decode(\"UTF-8\")"
   ]
  },
  {
   "cell_type": "code",
   "execution_count": 8,
   "metadata": {},
   "outputs": [],
   "source": [
    "minValue = testing_set.Vacation.min()\n",
    "maxValue = testing_set.Vacation.max()\n",
    "testing_set.Vacation = testing_set.Vacation.apply(lambda x:(x-minValue)/(maxValue-minValue))\n",
    "\n",
    "minValue = testing_set.eCredit.min()\n",
    "maxValue = testing_set.eCredit.max()\n",
    "testing_set.eCredit = testing_set.eCredit.apply(lambda x:(x-minValue)/(maxValue-minValue))\n",
    "\n",
    "minValue = testing_set.salary.min()\n",
    "maxValue = testing_set.salary.max()\n",
    "testing_set.salary = testing_set.salary.apply(lambda x:(x-minValue)/(maxValue-minValue))\n",
    "\n",
    "minValue = testing_set.property.min()\n",
    "maxValue = testing_set.property.max()\n",
    "testing_set.property = testing_set.property.apply(lambda x:(x-minValue)/(maxValue-minValue))"
   ]
  },
  {
   "cell_type": "markdown",
   "metadata": {},
   "source": [
    "<h1>Testing set pre-processing done</h1>"
   ]
  },
  {
   "cell_type": "markdown",
   "metadata": {},
   "source": [
    "<h3>KNN function</h3>"
   ]
  },
  {
   "cell_type": "code",
   "execution_count": 9,
   "metadata": {},
   "outputs": [],
   "source": [
    "def knn(k):\n",
    "    predictions=[]\n",
    "    for x in range(len(testing_set)):\n",
    "        neighbors = getNeighbors(training_set.values, testing_set.values[x], k)\n",
    "        result = getResponse(neighbors)\n",
    "        predictions.append(result)\n",
    "    accuracy = getAccuracy(testing_set.values, predictions)\n",
    "    return repr(accuracy)"
   ]
  },
  {
   "cell_type": "code",
   "execution_count": 10,
   "metadata": {},
   "outputs": [],
   "source": [
    "def euclideanDistance(instance1, instance2, length):\n",
    "    distance = 0\n",
    "    for i in range(2):\n",
    "        if (instance1[i]==instance2[i]):\n",
    "            distance += 1\n",
    "    for x in range(2,length):\n",
    "        distance += pow((instance1[x] - instance2[x]), 2)\n",
    "    return math.sqrt(distance)\n",
    " \n",
    "def getNeighbors(trainingSet, testInstance, k):\n",
    "    distances = []\n",
    "    length = len(testInstance)-1\n",
    "    for x in range(len(trainingSet)):\n",
    "        dist = euclideanDistance(testInstance, trainingSet[x], length)\n",
    "        distances.append((trainingSet[x], dist))\n",
    "    distances.sort(key=operator.itemgetter(1))\n",
    "    neighbors = []\n",
    "    for x in range(k):\n",
    "        neighbors.append(distances[x][0])\n",
    "    return neighbors\n",
    " \n",
    "def getResponse(neighbors):\n",
    "    classVotes = {}\n",
    "    for x in range(len(neighbors)):\n",
    "        response = neighbors[x][-1]\n",
    "        if response in classVotes:\n",
    "            classVotes[response] += 1\n",
    "        else:\n",
    "            classVotes[response] = 1\n",
    "    sortedVotes = sorted(classVotes.items(), key=operator.itemgetter(1), reverse=True)\n",
    "    return sortedVotes[0][0]\n",
    " \n",
    "def getAccuracy(testSet, predictions):\n",
    "    correct = 0\n",
    "    for x in range(len(testSet)):\n",
    "        if testSet[x][-1] == predictions[x]:\n",
    "            correct += 1\n",
    "    return (correct/float(len(testSet))) * 100.0"
   ]
  },
  {
   "cell_type": "markdown",
   "metadata": {},
   "source": [
    "<h4>Storing the predictions to a dictionary</h4>"
   ]
  },
  {
   "cell_type": "code",
   "execution_count": 11,
   "metadata": {},
   "outputs": [
    {
     "name": "stdout",
     "output_type": "stream",
     "text": [
      "{1: 19.047619047619047, 3: 23.809523809523807, 5: 19.047619047619047, 7: 14.285714285714285, 9: 19.047619047619047, 11: 19.047619047619047, 13: 23.809523809523807, 15: 23.809523809523807, 17: 28.57142857142857, 19: 28.57142857142857, 21: 28.57142857142857, 23: 28.57142857142857, 25: 28.57142857142857, 27: 28.57142857142857, 29: 28.57142857142857, 31: 28.57142857142857, 33: 28.57142857142857, 35: 23.809523809523807, 37: 23.809523809523807, 39: 23.809523809523807, 41: 23.809523809523807, 43: 19.047619047619047, 45: 19.047619047619047, 47: 14.285714285714285, 49: 19.047619047619047, 51: 14.285714285714285, 53: 19.047619047619047, 55: 9.523809523809524, 57: 9.523809523809524, 59: 9.523809523809524, 61: 9.523809523809524, 63: 9.523809523809524, 65: 9.523809523809524, 67: 9.523809523809524, 69: 14.285714285714285, 71: 14.285714285714285, 73: 14.285714285714285, 75: 14.285714285714285, 77: 14.285714285714285, 79: 14.285714285714285, 81: 14.285714285714285, 83: 14.285714285714285, 85: 14.285714285714285, 87: 14.285714285714285, 89: 19.047619047619047, 91: 19.047619047619047, 93: 19.047619047619047, 95: 23.809523809523807, 97: 23.809523809523807, 99: 23.809523809523807}\n"
     ]
    }
   ],
   "source": [
    "KNN={}\n",
    "for i in range(1, 100, 2):\n",
    "    KNN[i]=float(knn(i))\n",
    "print(KNN)"
   ]
  },
  {
   "cell_type": "markdown",
   "metadata": {},
   "source": [
    "<h4>Finding the more accurate value</h4>"
   ]
  },
  {
   "cell_type": "code",
   "execution_count": 12,
   "metadata": {},
   "outputs": [
    {
     "name": "stdout",
     "output_type": "stream",
     "text": [
      "28.57142857142857\n"
     ]
    }
   ],
   "source": [
    "MAX=0\n",
    "for i in KNN:\n",
    "    if(float(KNN[i])>=MAX):\n",
    "        MAX=float(KNN[i])\n",
    "print(MAX)"
   ]
  },
  {
   "cell_type": "markdown",
   "metadata": {},
   "source": [
    "<h4>Adding dictionary keys and value to different lists </h4>"
   ]
  },
  {
   "cell_type": "code",
   "execution_count": 13,
   "metadata": {},
   "outputs": [
    {
     "name": "stdout",
     "output_type": "stream",
     "text": [
      "[1, 3, 5, 7, 9, 11, 13, 15, 17, 19, 21, 23, 25, 27, 29, 31, 33, 35, 37, 39, 41, 43, 45, 47, 49, 51, 53, 55, 57, 59, 61, 63, 65, 67, 69, 71, 73, 75, 77, 79, 81, 83, 85, 87, 89, 91, 93, 95, 97, 99]\n"
     ]
    }
   ],
   "source": [
    "k_values=[]\n",
    "Accuracy_list=[]\n",
    "for i in KNN:\n",
    "    k_values.append(i)\n",
    "    Accuracy_list.append(float(KNN[i]))\n",
    "print(k_values)"
   ]
  },
  {
   "cell_type": "code",
   "execution_count": 14,
   "metadata": {},
   "outputs": [
    {
     "name": "stdout",
     "output_type": "stream",
     "text": [
      "[19.047619047619047, 23.809523809523807, 19.047619047619047, 14.285714285714285, 19.047619047619047, 19.047619047619047, 23.809523809523807, 23.809523809523807, 28.57142857142857, 28.57142857142857, 28.57142857142857, 28.57142857142857, 28.57142857142857, 28.57142857142857, 28.57142857142857, 28.57142857142857, 28.57142857142857, 23.809523809523807, 23.809523809523807, 23.809523809523807, 23.809523809523807, 19.047619047619047, 19.047619047619047, 14.285714285714285, 19.047619047619047, 14.285714285714285, 19.047619047619047, 9.523809523809524, 9.523809523809524, 9.523809523809524, 9.523809523809524, 9.523809523809524, 9.523809523809524, 9.523809523809524, 14.285714285714285, 14.285714285714285, 14.285714285714285, 14.285714285714285, 14.285714285714285, 14.285714285714285, 14.285714285714285, 14.285714285714285, 14.285714285714285, 14.285714285714285, 19.047619047619047, 19.047619047619047, 19.047619047619047, 23.809523809523807, 23.809523809523807, 23.809523809523807]\n"
     ]
    }
   ],
   "source": [
    "print(Accuracy_list)"
   ]
  },
  {
   "cell_type": "markdown",
   "metadata": {},
   "source": [
    "<h3>Ploting a graph between k_values and respective Accuracy</h3>"
   ]
  },
  {
   "cell_type": "code",
   "execution_count": 1,
   "metadata": {},
   "outputs": [
    {
     "ename": "NameError",
     "evalue": "name 'plt' is not defined",
     "output_type": "error",
     "traceback": [
      "\u001b[0;31m---------------------------------------------------------------------------\u001b[0m",
      "\u001b[0;31mNameError\u001b[0m                                 Traceback (most recent call last)",
      "\u001b[0;32m<ipython-input-1-1d90af88b270>\u001b[0m in \u001b[0;36m<module>\u001b[0;34m()\u001b[0m\n\u001b[0;32m----> 1\u001b[0;31m \u001b[0mplt\u001b[0m\u001b[0;34m.\u001b[0m\u001b[0mplot\u001b[0m\u001b[0;34m(\u001b[0m\u001b[0mk_values\u001b[0m\u001b[0;34m,\u001b[0m\u001b[0mAccuracy_list\u001b[0m\u001b[0;34m,\u001b[0m\u001b[0mcolor\u001b[0m\u001b[0;34m=\u001b[0m\u001b[0;34m'green'\u001b[0m\u001b[0;34m)\u001b[0m\u001b[0;34m\u001b[0m\u001b[0m\n\u001b[0m\u001b[1;32m      2\u001b[0m \u001b[0mplt\u001b[0m\u001b[0;34m.\u001b[0m\u001b[0mxlabel\u001b[0m\u001b[0;34m(\u001b[0m\u001b[0;34m\"K_values\"\u001b[0m\u001b[0;34m)\u001b[0m\u001b[0;34m\u001b[0m\u001b[0m\n\u001b[1;32m      3\u001b[0m \u001b[0mplt\u001b[0m\u001b[0;34m.\u001b[0m\u001b[0mylabel\u001b[0m\u001b[0;34m(\u001b[0m\u001b[0;34m\"Accuracy_list\"\u001b[0m\u001b[0;34m)\u001b[0m\u001b[0;34m\u001b[0m\u001b[0m\n\u001b[1;32m      4\u001b[0m \u001b[0mplt\u001b[0m\u001b[0;34m.\u001b[0m\u001b[0mgrid\u001b[0m\u001b[0;34m(\u001b[0m\u001b[0;32mTrue\u001b[0m\u001b[0;34m)\u001b[0m\u001b[0;34m\u001b[0m\u001b[0m\n\u001b[1;32m      5\u001b[0m \u001b[0mplt\u001b[0m\u001b[0;34m.\u001b[0m\u001b[0mshow\u001b[0m\u001b[0;34m(\u001b[0m\u001b[0;34m)\u001b[0m\u001b[0;34m\u001b[0m\u001b[0m\n",
      "\u001b[0;31mNameError\u001b[0m: name 'plt' is not defined"
     ]
    }
   ],
   "source": [
    "plt.plot(k_values,Accuracy_list,color='green')\n",
    "plt.xlabel(\"K_values\")\n",
    "plt.ylabel(\"Accuracy_list\")\n",
    "plt.grid(True)\n",
    "plt.show()"
   ]
  },
  {
   "cell_type": "code",
   "execution_count": null,
   "metadata": {},
   "outputs": [],
   "source": []
  }
 ],
 "metadata": {
  "kernelspec": {
   "display_name": "Python 3",
   "language": "python",
   "name": "python3"
  },
  "language_info": {
   "codemirror_mode": {
    "name": "ipython",
    "version": 3
   },
   "file_extension": ".py",
   "mimetype": "text/x-python",
   "name": "python",
   "nbconvert_exporter": "python",
   "pygments_lexer": "ipython3",
   "version": "3.6.5"
  }
 },
 "nbformat": 4,
 "nbformat_minor": 2
}
